{
 "cells": [
  {
   "cell_type": "code",
   "execution_count": 1,
   "id": "af62de11",
   "metadata": {},
   "outputs": [],
   "source": [
    "from glob import glob\n",
    "import pandas as pd"
   ]
  },
  {
   "cell_type": "code",
   "execution_count": 2,
   "id": "04461b18",
   "metadata": {},
   "outputs": [],
   "source": [
    "files=glob('*.csv')\n",
    "frames=[pd.read_csv(file) for file in files]\n",
    "dataframes=pd.concat(frames,ignore_index=True)"
   ]
  },
  {
   "cell_type": "code",
   "execution_count": 3,
   "id": "a5859f93",
   "metadata": {},
   "outputs": [
    {
     "name": "stdout",
     "output_type": "stream",
     "text": [
      "Name to save the dataset: Algeria\n"
     ]
    }
   ],
   "source": [
    "name=input('Name to save the dataset: ')"
   ]
  },
  {
   "cell_type": "code",
   "execution_count": 4,
   "id": "3fc3c523",
   "metadata": {},
   "outputs": [],
   "source": [
    "#save to csv file, replace the empty string with the name of the dataset, don't to add the .csv extension\n",
    "dataframes.to_csv(f'{name}.csv',index=False)"
   ]
  }
 ],
 "metadata": {
  "kernelspec": {
   "display_name": "Python 3 (ipykernel)",
   "language": "python",
   "name": "python3"
  },
  "language_info": {
   "codemirror_mode": {
    "name": "ipython",
    "version": 3
   },
   "file_extension": ".py",
   "mimetype": "text/x-python",
   "name": "python",
   "nbconvert_exporter": "python",
   "pygments_lexer": "ipython3",
   "version": "3.10.12"
  }
 },
 "nbformat": 4,
 "nbformat_minor": 5
}
